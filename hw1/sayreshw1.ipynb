{
 "cells": [
  {
   "cell_type": "markdown",
   "metadata": {},
   "source": [
    "# Conor Sayres\n",
    "# Astro 507\n",
    "# Homework 1\n",
    "\n",
    "## 1a)\n",
    "\n",
    "The code is implemented in C++ using pybind11 as a Python wrapper.  I chose C++ to allow me to experiment with small timesteps and large ensembles of particles while minimizing computation time. To build, type: \n",
    "\n",
    "```python setup.py build```\n",
    "\n",
    "at the terminal to create the Python-importable module **cParticle**.\n",
    "\n",
    "### File Descriptions:\n",
    "\n",
    "**setup.py** - script to build the code\n",
    "\n",
    "**cParticle.cpp** - Python bindings for the C++ Box class (simulator).\n",
    "\n",
    "**particles.h** - C++ header.  Shows available classes, attributes and methods with some description.\n",
    "\n",
    "**particles.cpp** - Implements the simulation routines.\n",
    "\n",
    "### Code Description:\n",
    "\n",
    "CGS units are used throughout the code. I model particles in a 2 dimensional box with reflecting edges. Particles are specified by the following initial conditions: mass, radius, x position, y position, x velocity, y velocity.  A box is defined by a width, height, and random seed. The Box class presents a method for easily adding Particles with random positions and directions at a specified velocity.  When a particle's position is within a radius of a wall, the velocity component normal to the wall is inverted. Reflections are tracked throughout the simulation to monitor pressure. Particles interact with one another via 2D elastic collisions. A collision is flagged by the following criteria:\n",
    "\n",
    "1) The spacing between particles is less than or equal to the sum of the particles' radii.\n",
    "\n",
    "2) The particles are moving towards eachother.\n",
    "\n",
    "Enforcing criterion 2) improves the simulation results.  This protects against issues related to the time-stepping nature of the routine in which a collision may have recently occured (and momentum/energy transfered) and begun spatially separating, but not yet to the extent satisfying criterion 1).  Collision detection code is implemented in the Box::isCollided method.  Collision instances are modeled elastically.  To accomplish this I used the recipe specified here: \n",
    "\n",
    "https://en.wikipedia.org/wiki/Elastic_collision#Two-dimensional_collision_with_two_moving_objects\n",
    "\n",
    "These equations are implemented in the Box::handleCollision method, which modifies the velocities of two particles experiencing a collision. The simulation itself proceeds as following:\n",
    "\n",
    "1) Specify number of iterations (steps), and associated timestep (dt), and a rate at which to save the simulation state (saveEvery)\n",
    "\n",
    "2) Begin loop over steps\n",
    "\n",
    "3) At each step, modify all particles' positions forward in time (eg, x = x + vx*dt)\n",
    "\n",
    "4) Reflect velocities for those particles at a boundary at this step\n",
    "\n",
    "5) Check for collisions among all pairs of particles\n",
    "\n",
    "6) For those particles collided, exchange momentum and energy elastically\n",
    "\n",
    "7) Save the current state of the simulation (at specified frequency) for analysis later.\n",
    "\n",
    "Here is a demonstration of a simulation of two particles in a box with unequal masses (progress during simulation is printed to terminal):"
   ]
  },
  {
   "cell_type": "code",
   "execution_count": 4,
   "metadata": {},
   "outputs": [],
   "source": [
    "from cParticle import Box\n",
    "\n",
    "width = 100\n",
    "height = 100\n",
    "mass = 1\n",
    "radius = 10\n",
    "velocity = width / 5\n",
    "seed = 0\n",
    "steps = 10000\n",
    "dt = 0.001 * radius / velocity\n",
    "saveEvery = 1000\n",
    "\n",
    "box = Box(width, height, seed)\n",
    "box.addRandomParticle(mass, radius, velocity)\n",
    "box.addRandomParticle(10*mass, radius, velocity)\n",
    "box.runSim(steps, dt, saveEvery)"
   ]
  },
  {
   "cell_type": "code",
   "execution_count": null,
   "metadata": {},
   "outputs": [],
   "source": []
  }
 ],
 "metadata": {
  "kernelspec": {
   "display_name": "Python 3",
   "language": "python",
   "name": "python3"
  },
  "language_info": {
   "codemirror_mode": {
    "name": "ipython",
    "version": 3
   },
   "file_extension": ".py",
   "mimetype": "text/x-python",
   "name": "python",
   "nbconvert_exporter": "python",
   "pygments_lexer": "ipython3",
   "version": "3.7.3"
  }
 },
 "nbformat": 4,
 "nbformat_minor": 4
}
